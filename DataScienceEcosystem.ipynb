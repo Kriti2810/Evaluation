{
 "cells": [
  {
   "cell_type": "markdown",
   "id": "ef0e40c5-353f-42d1-8c14-262ebeaeae63",
   "metadata": {},
   "source": [
    "# Data Science Tools and Ecosystem"
   ]
  },
  {
   "cell_type": "markdown",
   "id": "8cc2ceb9-7920-4a12-ace7-b075d22ad77b",
   "metadata": {
    "tags": []
   },
   "source": [
    "In this notebook, Data Science Tools and Ecosystem are summarized."
   ]
  },
  {
   "cell_type": "markdown",
   "id": "654b1f0e-4433-4c39-814c-c1179a446cd2",
   "metadata": {},
   "source": [
    "**Objectives:**\n",
    "- To list languages used in data science\n",
    "- To list libraries\n",
    "- To create tables\n",
    "- To perform arithmetic expressions\n",
    "- To learn heading styles"
   ]
  },
  {
   "cell_type": "markdown",
   "id": "bf0de2c2-2505-4c6b-b251-6cdcc6bb93cd",
   "metadata": {
    "tags": []
   },
   "source": [
    "Some of the popular languages that Data Scientists use are:\n",
    "1. Python\n",
    "2. R\n",
    "3. Scala"
   ]
  },
  {
   "cell_type": "markdown",
   "id": "00a3e3e9-1dbb-4698-8447-4d5e99694216",
   "metadata": {
    "tags": []
   },
   "source": [
    "Some of the commonly used libraries used by Data Scientists include:\n",
    "1. Pandas\n",
    "2. NumPy\n",
    "3. Matplotlib"
   ]
  },
  {
   "cell_type": "markdown",
   "id": "7e06b671-d9fe-4879-9366-c933b0c1f8eb",
   "metadata": {},
   "source": [
    "Data Science Tools |\n",
    "-------------------\n",
    "MySQL |\n",
    "PostgreSQL |\n",
    "GitHub |\n"
   ]
  },
  {
   "cell_type": "markdown",
   "id": "f4332eb2-a421-452a-8495-b1ba948479be",
   "metadata": {
    "tags": []
   },
   "source": [
    "### Below are a few examples of evaluating arithmetic expressions in Python:\n",
    "1. 3+5=8\n",
    "2. 5-2=3"
   ]
  },
  {
   "cell_type": "code",
   "execution_count": 2,
   "id": "981a38fb-7193-407e-af9b-f3d352249ff1",
   "metadata": {
    "tags": []
   },
   "outputs": [
    {
     "data": {
      "text/plain": [
       "17"
      ]
     },
     "execution_count": 2,
     "metadata": {},
     "output_type": "execute_result"
    }
   ],
   "source": [
    "# This a simple arithmetic expression to mutiply then add integers\n",
    "(3*4)+5\n"
   ]
  },
  {
   "cell_type": "code",
   "execution_count": 6,
   "id": "1251ac47-c5ca-4e55-ad90-79e92087c65c",
   "metadata": {
    "tags": []
   },
   "outputs": [
    {
     "data": {
      "text/plain": [
       "3.3333333333333335"
      ]
     },
     "execution_count": 6,
     "metadata": {},
     "output_type": "execute_result"
    }
   ],
   "source": [
    "# This will convert 200 minutes to hours by diving by 60\n",
    "200/60"
   ]
  },
  {
   "cell_type": "markdown",
   "id": "c63a9ee5-b886-4274-a0ac-f3d6f27cc802",
   "metadata": {
    "tags": []
   },
   "source": [
    "# **Author**\n",
    "Kriti Gupta"
   ]
  },
  {
   "cell_type": "code",
   "execution_count": null,
   "id": "55fa36f6-d0e4-40bb-a2dd-eacfeee3e8d0",
   "metadata": {},
   "outputs": [],
   "source": []
  }
 ],
 "metadata": {
  "kernelspec": {
   "display_name": "Python",
   "language": "python",
   "name": "conda-env-python-py"
  },
  "language_info": {
   "codemirror_mode": {
    "name": "ipython",
    "version": 3
   },
   "file_extension": ".py",
   "mimetype": "text/x-python",
   "name": "python",
   "nbconvert_exporter": "python",
   "pygments_lexer": "ipython3",
   "version": "3.7.12"
  }
 },
 "nbformat": 4,
 "nbformat_minor": 5
}
